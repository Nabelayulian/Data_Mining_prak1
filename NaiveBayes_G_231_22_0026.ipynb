{
  "nbformat": 4,
  "nbformat_minor": 0,
  "metadata": {
    "colab": {
      "private_outputs": true,
      "provenance": [],
      "authorship_tag": "ABX9TyNXm4sP/6vJB5AL8rxYuwnV",
      "include_colab_link": true
    },
    "kernelspec": {
      "name": "python3",
      "display_name": "Python 3"
    },
    "language_info": {
      "name": "python"
    }
  },
  "cells": [
    {
      "cell_type": "markdown",
      "metadata": {
        "id": "view-in-github",
        "colab_type": "text"
      },
      "source": [
        "<a href=\"https://colab.research.google.com/github/Nabelayulian/Data_Mining_prak1/blob/main/NaiveBayes_G_231_22_0026.ipynb\" target=\"_parent\"><img src=\"https://colab.research.google.com/assets/colab-badge.svg\" alt=\"Open In Colab\"/></a>"
      ]
    },
    {
      "cell_type": "code",
      "execution_count": null,
      "metadata": {
        "id": "2Rkx509IgPD1"
      },
      "outputs": [],
      "source": [
        "# 1 import dataset\n",
        "from sklearn.datasets import load_digits\n",
        "digits = load_digits()\n",
        "digits.images.shape # (1797, 8, 8)\n",
        "digits.images # akan manghasilkan matrix of numbers"
      ]
    },
    {
      "cell_type": "code",
      "source": [
        "#2. memisahkan feature matix (x) dengan target label (Y)\n",
        "x = digits.data\n",
        "y = digits.target"
      ],
      "metadata": {
        "id": "XCGCBP8chgep"
      },
      "execution_count": null,
      "outputs": []
    },
    {
      "cell_type": "code",
      "source": [
        "#3, splitting\n",
        "from sklearn.model_selection import train_test_split\n",
        "xtrain, xtest, ytrain, ytest = train_test_split(x, y, random_state=0)\n"
      ],
      "metadata": {
        "id": "zkv4mZ3Uh9a0"
      },
      "execution_count": null,
      "outputs": []
    },
    {
      "cell_type": "code",
      "source": [
        "#4. training model\n",
        "from sklearn.naive_bayes import GaussianNB\n",
        "model = GaussianNB()\n",
        "model.fit(xtrain, ytrain)\n",
        "#traing model dengan methoad fit()\n",
        "y_model = model.predict(xtest)"
      ],
      "metadata": {
        "id": "Fh2R73GNiYjA"
      },
      "execution_count": null,
      "outputs": []
    },
    {
      "cell_type": "code",
      "source": [
        "# melihat skor akurasi dengan data ytest\n",
        "from sklearn.metrics import accuracy_score\n",
        "accuracy_score(ytest, y_model)\n",
        "#uji ini menghasilkan 0.8333333333333334"
      ],
      "metadata": {
        "id": "far9QwL5jP1N"
      },
      "execution_count": null,
      "outputs": []
    }
  ]
}