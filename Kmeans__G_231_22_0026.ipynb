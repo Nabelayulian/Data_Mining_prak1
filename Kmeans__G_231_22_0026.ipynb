{
  "nbformat": 4,
  "nbformat_minor": 0,
  "metadata": {
    "colab": {
      "private_outputs": true,
      "provenance": [],
      "authorship_tag": "ABX9TyN4loB4I9NxpOtx+z+W7Nnl",
      "include_colab_link": true
    },
    "kernelspec": {
      "name": "python3",
      "display_name": "Python 3"
    },
    "language_info": {
      "name": "python"
    }
  },
  "cells": [
    {
      "cell_type": "markdown",
      "metadata": {
        "id": "view-in-github",
        "colab_type": "text"
      },
      "source": [
        "<a href=\"https://colab.research.google.com/github/Nabelayulian/Data_Mining_prak1/blob/main/Kmeans__G_231_22_0026.ipynb\" target=\"_parent\"><img src=\"https://colab.research.google.com/assets/colab-badge.svg\" alt=\"Open In Colab\"/></a>"
      ]
    },
    {
      "cell_type": "code",
      "execution_count": null,
      "metadata": {
        "id": "2rLTqxLVjRRK"
      },
      "outputs": [],
      "source": [
        "#K-Means Clustering\n",
        "\n",
        "#importing the libraries\n",
        "\n",
        "import numpy as np\n",
        "import matplotlib.pyplot as plt\n",
        "import pandas as pd"
      ]
    },
    {
      "cell_type": "code",
      "source": [
        "from google.colab import files\n",
        "uploaded = files.upload()"
      ],
      "metadata": {
        "id": "Ctgu2ePPjpc7"
      },
      "execution_count": null,
      "outputs": []
    },
    {
      "cell_type": "code",
      "source": [
        "dataset = pd.read_csv('/content/Mall_Customers.csv')\n",
        "X = dataset.iloc[:,[3,4]].values\n",
        "dataset.head()"
      ],
      "metadata": {
        "id": "U8KdKBJ4kD0C"
      },
      "execution_count": null,
      "outputs": []
    },
    {
      "cell_type": "code",
      "source": [
        "# menggunakan metode elbow untuk menemukan jumlah cluster yang optimal\n",
        "\n",
        "from sklearn.cluster import KMeans\n",
        "wcss =[]\n",
        "for i in range (1,11):\n",
        "    kmeans =KMeans(n_clusters = i, init = 'k-means++', max_iter =300, n_init = 10, random_state = 0)\n",
        "    kmeans.fit(X)\n",
        "    wcss.append(kmeans.inertia_)\n",
        "\n",
        "#plot grafik untuk memvisualisasikan metode elbow untuk menemukan cluster yang optimal\n",
        "# WCSS adalah jumlah kuadrat jarak antara setiap titik dan pusat massa dalam sebuah cluster.\n",
        "plt.plot(range(1,11),wcss)\n",
        "plt.title('Metode Elbow')\n",
        "plt.xlabel('Jumlah Cluster')\n",
        "plt.ylabel('WCSS')\n",
        "plt.show()"
      ],
      "metadata": {
        "id": "wpQEj9w7kZIO"
      },
      "execution_count": null,
      "outputs": []
    },
    {
      "cell_type": "code",
      "source": [
        "# Menerapkan Kmeans ke dataset dengan jumlah cluster optimal\n",
        "\n",
        "kmeans =KMeans(n_clusters = i, init = 'k-means++', max_iter =300, n_init = 10, random_state = 0)\n",
        "y_kmeans = kmeans.fit_predict(X)\n",
        "\n",
        "# Visualising the clusters\n",
        "\n",
        "plt.scatter(X[y_kmeans == 0, 0], X[y_kmeans == 0,1],s = 100, c='red', label = 'Cluster 1')\n",
        "\n",
        "plt.scatter(X[y_kmeans == 1, 0], X[y_kmeans == 1,1],s = 100, c='blue', label = 'Cluster 2')\n",
        "\n",
        "plt.scatter(X[y_kmeans == 2, 0], X[y_kmeans == 2,1],s = 100, c='green', label = 'Cluster 3')\n",
        "\n",
        "plt.scatter(X[y_kmeans == 3, 0], X[y_kmeans == 3,1],s = 100, c='cyan', label = 'Cluster 4')\n",
        "\n",
        "plt.scatter(X[y_kmeans == 4, 0], X[y_kmeans == 4,1],s = 100, c='magenta', label = 'Cluster 5')\n",
        "\n",
        "plt.scatter(Kmeans.cluster_centers_[:,0], Kmeans.cluster_centers_[:,1], s = 300, c = 'yellow', label = 'centroids')\n",
        "\n",
        "plt.title('clusters dari client')\n",
        "plt.xlabel('Annual Income (k$)')\n",
        "plt.ylabel('speding score (1-100)')\n",
        "plt.legend()\n",
        "plt.show()"
      ],
      "metadata": {
        "id": "G04YJFlXoG0H"
      },
      "execution_count": null,
      "outputs": []
    }
  ]
}