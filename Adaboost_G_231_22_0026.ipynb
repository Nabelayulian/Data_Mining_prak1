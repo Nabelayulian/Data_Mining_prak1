{
  "nbformat": 4,
  "nbformat_minor": 0,
  "metadata": {
    "colab": {
      "private_outputs": true,
      "provenance": [],
      "authorship_tag": "ABX9TyNXXbvuCl58z02q0BOjG+hP",
      "include_colab_link": true
    },
    "kernelspec": {
      "name": "python3",
      "display_name": "Python 3"
    },
    "language_info": {
      "name": "python"
    }
  },
  "cells": [
    {
      "cell_type": "markdown",
      "metadata": {
        "id": "view-in-github",
        "colab_type": "text"
      },
      "source": [
        "<a href=\"https://colab.research.google.com/github/Nabelayulian/Data_Mining_prak1/blob/main/Adaboost_G_231_22_0026.ipynb\" target=\"_parent\"><img src=\"https://colab.research.google.com/assets/colab-badge.svg\" alt=\"Open In Colab\"/></a>"
      ]
    },
    {
      "cell_type": "markdown",
      "source": [
        "MENGIMPOR PERPUSTAKAAN YANG DIPERLUKAN"
      ],
      "metadata": {
        "id": "w4OOXvZ1PgSA"
      }
    },
    {
      "cell_type": "code",
      "source": [
        "#load libraries\n",
        "from sklearn.ensemble import AdaBoostClassifier\n",
        "from sklearn import datasets\n",
        "#Import train_test_split function\n",
        "from sklearn.model_selection import train_test_split\n",
        "#import scikit-learn metrics modul for accuracy calculation\n",
        "from sklearn import metrics\n"
      ],
      "metadata": {
        "id": "QM9xzDWiPtOx"
      },
      "execution_count": null,
      "outputs": []
    },
    {
      "cell_type": "code",
      "source": [
        "#load data\n",
        "iris = datasets.load_iris()\n",
        "x = iris.data\n",
        "y = iris.target"
      ],
      "metadata": {
        "id": "wREaj8IvRN4x"
      },
      "execution_count": null,
      "outputs": []
    },
    {
      "cell_type": "code",
      "source": [
        "#split dataset into training set  and test set\n",
        "x_train,x_test, y_train, y_test = train_test_split(x, y, test_size=0.3) # 70% training and 30% test\n"
      ],
      "metadata": {
        "id": "SvJfGsy3RbMP"
      },
      "execution_count": null,
      "outputs": []
    },
    {
      "cell_type": "code",
      "source": [
        "#create adaboost classifer object\n",
        "abc = AdaBoostClassifier(n_estimators=50,learning_rate=1)\n",
        "#train adaboost classifier\n",
        "model = abc.fit(x_train, y_train)\n",
        "#predict the response for test dataset\n",
        "y_pred = model.predict(x_test)"
      ],
      "metadata": {
        "id": "l1iK60A0R2Fn"
      },
      "execution_count": null,
      "outputs": []
    },
    {
      "cell_type": "code",
      "source": [
        "#model accuracy, how often is the classifier correct?\n",
        "print(\"Accuracy:\",metrics.accuracy_score(y_test, y_pred))"
      ],
      "metadata": {
        "id": "WVkWziP1SqWT"
      },
      "execution_count": null,
      "outputs": []
    },
    {
      "cell_type": "code",
      "source": [
        "!git clone https://github.com/eriklindernoren/ML-From-Scratch"
      ],
      "metadata": {
        "id": "8jWcMxCzTHgj"
      },
      "execution_count": null,
      "outputs": []
    },
    {
      "cell_type": "code",
      "source": [
        "import sys\n",
        "sys.path.append('/content/ML-From-Scratch')"
      ],
      "metadata": {
        "id": "HDPEkGuXU5Jc"
      },
      "execution_count": null,
      "outputs": []
    },
    {
      "cell_type": "code",
      "source": [
        "import sys\n",
        "sys.path.append('/content/ML-From-Scratch/mlfromscratch')\n"
      ],
      "metadata": {
        "id": "FqBCBDEvcvZP"
      },
      "execution_count": null,
      "outputs": []
    },
    {
      "cell_type": "code",
      "source": [
        "from __future__ import division, print_function\n",
        "import numpy as np\n",
        "import math\n",
        "from sklearn import datasets\n",
        "import matplotlib.pyplot as plt\n",
        "import pandas as pd\n",
        "# Mengimpor fungsi helper dari modul kustom\n",
        "from m1fromscratch.utils import train_test_split, accuracy_score, plot\n",
        "\n",
        "# Decision stump digunakan sebagai weak classifier dalam implementasi Adaboost ini\n",
        "class DecisionStump():\n",
        "    def __init__(self):\n",
        "        # Menentukan apakah sampel akan diklasifikasikan sebagai -1 atau 1 berdasarkan threshold\n",
        "        self.polarity = 1\n",
        "        # Indeks fitur yang digunakan untuk membuat klasifikasi\n",
        "        self.feature_index = None\n",
        "        # Nilai threshold yang harus diukur oleh fitur\n",
        "        self.threshold = None\n",
        "        # Nilai yang menunjukkan akurasi classifier\n",
        "        self.alpha = None\n",
        "\n",
        "class Adaboost():\n",
        "    \"\"\"Boosting method yang menggunakan sejumlah weak classifier dalam ensemble untuk membuat classifier yang kuat.\n",
        "    Implementasi ini menggunakan decision stumps, yang merupakan decision tree satu tingkat.\n",
        "\n",
        "    Parameter:\n",
        "    -----------\n",
        "    n_clf: int\n",
        "        Jumlah weak classifier yang akan digunakan.\n",
        "    \"\"\"\n",
        "    import numpy as np\n",
        "\n",
        "class MyClassifier:\n",
        "    def __init__(self, n_clf=5):\n",
        "        self.n_clf = n_clf\n",
        "\n",
        "    def fit(self, x, y):\n",
        "        n_samples, n_features = np.shape(x)\n",
        "        # Tambahkan kode untuk melatih model di sini\n",
        "        print(f\"Jumlah sampel: {n_samples}, Jumlah fitur: {n_features}\")"
      ],
      "metadata": {
        "id": "gcfbAoO0ewH5"
      },
      "execution_count": null,
      "outputs": []
    }
  ]
}