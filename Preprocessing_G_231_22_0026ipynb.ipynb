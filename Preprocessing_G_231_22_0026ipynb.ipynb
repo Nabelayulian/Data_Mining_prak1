{
  "nbformat": 4,
  "nbformat_minor": 0,
  "metadata": {
    "colab": {
      "private_outputs": true,
      "provenance": []
    },
    "kernelspec": {
      "name": "python3",
      "display_name": "Python 3"
    },
    "language_info": {
      "name": "python"
    }
  },
  "cells": [
    {
      "cell_type": "code",
      "execution_count": null,
      "metadata": {
        "id": "_CdtkYrZL_lL"
      },
      "outputs": [],
      "source": [
        "import numpy as np\n",
        "from sklearn import preprocessing"
      ]
    },
    {
      "cell_type": "code",
      "source": [
        "input_data = np.array ([[5.1, -2.9, 3.3],\n",
        "                        [-1.2, 7.8, -6.1],\n",
        "                        [3.9, 0.4, 2.1],\n",
        "                        [7.3, -9.9, -4.5]])"
      ],
      "metadata": {
        "id": "XIi7a2dm_70w"
      },
      "execution_count": null,
      "outputs": []
    },
    {
      "cell_type": "code",
      "source": [
        "# Binarize data (Binarisasi data --> mengubah nilainya menjadi 0 dan 1)\n",
        "data_binarized = preprocessing.Binarizer(threshold=2.1).transform(input_data)\n",
        "print(\"\\nBinarized data:\\n\", data_binarized)"
      ],
      "metadata": {
        "id": "ky2ddJ14AFo3"
      },
      "execution_count": null,
      "outputs": []
    },
    {
      "cell_type": "code",
      "source": [
        "#print mean and standard deviation (cetak rata-rata dan standar deviasi)\n",
        "print(\"\\nBEFORE:\")\n",
        "print(\"Mean =\", input_data.mean(axis=0))\n",
        "print(\"Std deviation =\", input_data.std(axis=0))"
      ],
      "metadata": {
        "id": "AuzRMscNCL5H"
      },
      "execution_count": null,
      "outputs": []
    },
    {
      "cell_type": "code",
      "source": [
        "#Menghapus Rata Rata\n",
        "data_scaled = preprocessing.scale(input_data)\n",
        "print(\"\\nAFTER:\")\n",
        "print(\"Mean =\", data_scaled.mean(axis=0))\n",
        "print(\"Std deviation =\", data_scaled.std(axis=0))"
      ],
      "metadata": {
        "id": "qeQ6oz6kDTMn"
      },
      "execution_count": null,
      "outputs": []
    },
    {
      "cell_type": "code",
      "source": [
        "#Min max scaling (Menentukan Nilai Max dan Min)\n",
        "data_scaler_minmax = preprocessing.MinMaxScaler(feature_range=(0, 1))\n",
        "data_scaled_minmax = data_scaler_minmax.fit_transform(input_data)\n",
        "print(\"\\nMin max scaled data:\\n\", data_scaled_minmax)"
      ],
      "metadata": {
        "id": "pXDyGaz6D2_p"
      },
      "execution_count": null,
      "outputs": []
    },
    {
      "cell_type": "code",
      "source": [
        "# Normalizze data (Normalisasi Data)\n",
        "data_normalized_l1 = preprocessing.normalize(input_data, norm='l1')\n",
        "data_normalized_l2 = preprocessing.normalize(input_data, norm='l2')\n",
        "print(\"\\nL1 normalized data:\\n\", data_normalized_l1)\n",
        "print(\"\\nL2 normalized data:\\n\", data_normalized_l2)"
      ],
      "metadata": {
        "id": "6PApP5hJNnuH"
      },
      "execution_count": null,
      "outputs": []
    }
  ]
}